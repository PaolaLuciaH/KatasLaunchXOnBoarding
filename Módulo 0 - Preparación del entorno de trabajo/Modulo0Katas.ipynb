{
 "cells": [
  {
   "cell_type": "markdown",
   "metadata": {},
   "source": [
    "# Ejercicio: crea y ejecuta tu notebook\n",
    "\n",
    "Primero instalamos la biblioteca:"
   ]
  },
  {
   "cell_type": "code",
   "execution_count": 3,
   "metadata": {},
   "outputs": [
    {
     "name": "stdout",
     "output_type": "stream",
     "text": [
      "Collecting ipywidgetsNote: you may need to restart the kernel to use updated packages.\n",
      "  Using cached https://files.pythonhosted.org/packages/6b/bb/285066ddd710779cb69f03d42fa72fbfe4352b4895eb6abab551eae1535a/ipywidgets-7.6.5-py2.py3-none-any.whl\n",
      "Requirement already satisfied: ipython>=4.0.0; python_version >= \"3.3\" in c:\\users\\marry\\appdata\\roaming\\python\\python38\\site-packages (from ipywidgets) (8.0.1)\n",
      "Requirement already satisfied: traitlets>=4.3.1 in c:\\users\\marry\\appdata\\roaming\\python\\python38\\site-packages (from ipywidgets) (5.1.1)\n",
      "Collecting widgetsnbextension~=3.5.0 (from ipywidgets)\n",
      "  Using cached https://files.pythonhosted.org/packages/d7/31/7c1107fa30c621cd1d36410e9bbab86f6a518dc208aaec01f02ac6d5c2d2/widgetsnbextension-3.5.2-py2.py3-none-any.whl\n",
      "Collecting ipython-genutils~=0.2.0 (from ipywidgets)\n",
      "  Using cached https://files.pythonhosted.org/packages/fa/bc/9bd3b5c2b4774d5f33b2d544f1460be9df7df2fe42f352135381c347c69a/ipython_genutils-0.2.0-py2.py3-none-any.whl\n",
      "Collecting jupyterlab-widgets>=1.0.0; python_version >= \"3.6\" (from ipywidgets)\n",
      "  Using cached https://files.pythonhosted.org/packages/18/4d/22a93473bca99c80f2d23f867ebbfee2f6c8e186bf678864eec641500910/jupyterlab_widgets-1.0.2-py3-none-any.whl\n",
      "Collecting nbformat>=4.2.0 (from ipywidgets)\n",
      "  Using cached https://files.pythonhosted.org/packages/e7/c7/dd50978c637a7af8234909277c4e7ec1b71310c13fb3135f3c8f5b6e045f/nbformat-5.1.3-py3-none-any.whl\n",
      "Requirement already satisfied: ipykernel>=4.5.1 in c:\\users\\marry\\appdata\\roaming\\python\\python38\\site-packages (from ipywidgets) (6.9.0)\n",
      "Requirement already satisfied: stack-data in c:\\users\\marry\\appdata\\roaming\\python\\python38\\site-packages (from ipython>=4.0.0; python_version >= \"3.3\"->ipywidgets) (0.1.4)\n",
      "Requirement already satisfied: decorator in c:\\users\\marry\\appdata\\roaming\\python\\python38\\site-packages (from ipython>=4.0.0; python_version >= \"3.3\"->ipywidgets) (5.1.1)\n",
      "Requirement already satisfied: backcall in c:\\users\\marry\\appdata\\roaming\\python\\python38\\site-packages (from ipython>=4.0.0; python_version >= \"3.3\"->ipywidgets) (0.2.0)\n",
      "Requirement already satisfied: pickleshare in c:\\users\\marry\\appdata\\roaming\\python\\python38\\site-packages (from ipython>=4.0.0; python_version >= \"3.3\"->ipywidgets) (0.7.5)\n",
      "Requirement already satisfied: jedi>=0.16 in c:\\users\\marry\\appdata\\roaming\\python\\python38\\site-packages (from ipython>=4.0.0; python_version >= \"3.3\"->ipywidgets) (0.18.1)\n",
      "Requirement already satisfied: pygments in c:\\users\\marry\\appdata\\roaming\\python\\python38\\site-packages (from ipython>=4.0.0; python_version >= \"3.3\"->ipywidgets) (2.11.2)\n",
      "Requirement already satisfied: black in c:\\users\\marry\\appdata\\roaming\\python\\python38\\site-packages (from ipython>=4.0.0; python_version >= \"3.3\"->ipywidgets) (22.1.0)\n",
      "Requirement already satisfied: setuptools>=18.5 in c:\\users\\marry\\appdata\\local\\programs\\python\\python38-32\\lib\\site-packages (from ipython>=4.0.0; python_version >= \"3.3\"->ipywidgets) (41.2.0)\n",
      "Requirement already satisfied: prompt-toolkit!=3.0.0,!=3.0.1,<3.1.0,>=2.0.0 in c:\\users\\marry\\appdata\\roaming\\python\\python38\\site-packages (from ipython>=4.0.0; python_version >= \"3.3\"->ipywidgets) (3.0.27)\n",
      "Requirement already satisfied: colorama; sys_platform == \"win32\" in c:\\users\\marry\\appdata\\roaming\\python\\python38\\site-packages (from ipython>=4.0.0; python_version >= \"3.3\"->ipywidgets) (0.4.4)\n",
      "Requirement already satisfied: matplotlib-inline in c:\\users\\marry\\appdata\\roaming\\python\\python38\\site-packages (from ipython>=4.0.0; python_version >= \"3.3\"->ipywidgets) (0.1.3)\n",
      "Collecting notebook>=4.4.1 (from widgetsnbextension~=3.5.0->ipywidgets)\n",
      "  Using cached https://files.pythonhosted.org/packages/c8/be/285eb2886bd74d34af63c3d62928cf93f78f9158f2662fc287f60e48d766/notebook-6.4.8-py3-none-any.whl\n",
      "Requirement already satisfied: jupyter-core in c:\\users\\marry\\appdata\\roaming\\python\\python38\\site-packages (from nbformat>=4.2.0->ipywidgets) (4.9.1)\n",
      "Collecting jsonschema!=2.5.0,>=2.4 (from nbformat>=4.2.0->ipywidgets)\n",
      "  Using cached https://files.pythonhosted.org/packages/55/b2/2c4af6a97c3f12c6d5a72b41d328c3996e14e1e46701df3fac1ed65119c9/jsonschema-4.4.0-py3-none-any.whl\n",
      "Requirement already satisfied: nest-asyncio in c:\\users\\marry\\appdata\\roaming\\python\\python38\\site-packages (from ipykernel>=4.5.1->ipywidgets) (1.5.4)\n",
      "Requirement already satisfied: jupyter-client<8.0 in c:\\users\\marry\\appdata\\roaming\\python\\python38\\site-packages (from ipykernel>=4.5.1->ipywidgets) (7.1.2)\n",
      "Requirement already satisfied: tornado<7.0,>=4.2 in c:\\users\\marry\\appdata\\roaming\\python\\python38\\site-packages (from ipykernel>=4.5.1->ipywidgets) (6.1)\n",
      "Requirement already satisfied: debugpy<2.0,>=1.0.0 in c:\\users\\marry\\appdata\\roaming\\python\\python38\\site-packages (from ipykernel>=4.5.1->ipywidgets) (1.5.1)\n",
      "Requirement already satisfied: executing in c:\\users\\marry\\appdata\\roaming\\python\\python38\\site-packages (from stack-data->ipython>=4.0.0; python_version >= \"3.3\"->ipywidgets) (0.8.2)\n",
      "Requirement already satisfied: asttokens in c:\\users\\marry\\appdata\\roaming\\python\\python38\\site-packages (from stack-data->ipython>=4.0.0; python_version >= \"3.3\"->ipywidgets) (2.0.5)\n",
      "Requirement already satisfied: pure-eval in c:\\users\\marry\\appdata\\roaming\\python\\python38\\site-packages (from stack-data->ipython>=4.0.0; python_version >= \"3.3\"->ipywidgets) (0.2.2)\n",
      "Requirement already satisfied: parso<0.9.0,>=0.8.0 in c:\\users\\marry\\appdata\\roaming\\python\\python38\\site-packages (from jedi>=0.16->ipython>=4.0.0; python_version >= \"3.3\"->ipywidgets) (0.8.3)\n",
      "Requirement already satisfied: typing-extensions>=3.10.0.0; python_version < \"3.10\" in c:\\users\\marry\\appdata\\roaming\\python\\python38\\site-packages (from black->ipython>=4.0.0; python_version >= \"3.3\"->ipywidgets) (4.0.1)\n",
      "Requirement already satisfied: mypy-extensions>=0.4.3 in c:\\users\\marry\\appdata\\roaming\\python\\python38\\site-packages (from black->ipython>=4.0.0; python_version >= \"3.3\"->ipywidgets) (0.4.3)\n",
      "Requirement already satisfied: platformdirs>=2 in c:\\users\\marry\\appdata\\roaming\\python\\python38\\site-packages (from black->ipython>=4.0.0; python_version >= \"3.3\"->ipywidgets) (2.4.1)\n",
      "Requirement already satisfied: pathspec>=0.9.0 in c:\\users\\marry\\appdata\\roaming\\python\\python38\\site-packages (from black->ipython>=4.0.0; python_version >= \"3.3\"->ipywidgets) (0.9.0)\n",
      "Requirement already satisfied: tomli>=1.1.0 in c:\\users\\marry\\appdata\\roaming\\python\\python38\\site-packages (from black->ipython>=4.0.0; python_version >= \"3.3\"->ipywidgets) (2.0.1)\n",
      "Requirement already satisfied: click>=8.0.0 in c:\\users\\marry\\appdata\\roaming\\python\\python38\\site-packages (from black->ipython>=4.0.0; python_version >= \"3.3\"->ipywidgets) (8.0.3)\n",
      "Requirement already satisfied: wcwidth in c:\\users\\marry\\appdata\\roaming\\python\\python38\\site-packages (from prompt-toolkit!=3.0.0,!=3.0.1,<3.1.0,>=2.0.0->ipython>=4.0.0; python_version >= \"3.3\"->ipywidgets) (0.2.5)\n",
      "Requirement already satisfied: pyzmq>=17 in c:\\users\\marry\\appdata\\roaming\\python\\python38\\site-packages (from notebook>=4.4.1->widgetsnbextension~=3.5.0->ipywidgets) (22.3.0)\n",
      "Collecting terminado>=0.8.3 (from notebook>=4.4.1->widgetsnbextension~=3.5.0->ipywidgets)\n",
      "  Using cached https://files.pythonhosted.org/packages/b9/a5/7cd16097bdb23e74b220cce6aed73cf3f3f5167122355ab1164612d8170f/terminado-0.13.1-py3-none-any.whl\n",
      "Collecting Send2Trash>=1.8.0 (from notebook>=4.4.1->widgetsnbextension~=3.5.0->ipywidgets)\n",
      "  Using cached https://files.pythonhosted.org/packages/47/26/3435896d757335ea53dce5abf8d658ca80757a7a06258451b358f10232be/Send2Trash-1.8.0-py3-none-any.whl\n",
      "Collecting prometheus-client (from notebook>=4.4.1->widgetsnbextension~=3.5.0->ipywidgets)\n",
      "  Using cached https://files.pythonhosted.org/packages/53/d2/b64e76fc5df129db7cee2c071ba129ce090b2f6e7fb4c734aa9d2fc1d262/prometheus_client-0.13.1-py3-none-any.whl\n",
      "Collecting argon2-cffi (from notebook>=4.4.1->widgetsnbextension~=3.5.0->ipywidgets)\n",
      "  Using cached https://files.pythonhosted.org/packages/a8/07/946d5a9431bae05a776a59746ec385fbb79b526738d25e4202d3e0bbf7f4/argon2_cffi-21.3.0-py3-none-any.whl\n",
      "Collecting jinja2 (from notebook>=4.4.1->widgetsnbextension~=3.5.0->ipywidgets)\n",
      "  Using cached https://files.pythonhosted.org/packages/20/9a/e5d9ec41927401e41aea8af6d16e78b5e612bca4699d417f646a9610a076/Jinja2-3.0.3-py3-none-any.whl\n",
      "Collecting nbconvert (from notebook>=4.4.1->widgetsnbextension~=3.5.0->ipywidgets)\n",
      "  Using cached https://files.pythonhosted.org/packages/ac/e0/28f63b4dd05fa751b4b10e54f8a7cb15a5086320baad8700be41dc96eac0/nbconvert-6.4.2-py3-none-any.whl\n",
      "Requirement already satisfied: pywin32>=1.0; sys_platform == \"win32\" and platform_python_implementation != \"PyPy\" in c:\\users\\marry\\appdata\\roaming\\python\\python38\\site-packages (from jupyter-core->nbformat>=4.2.0->ipywidgets) (303)\n",
      "Collecting attrs>=17.4.0 (from jsonschema!=2.5.0,>=2.4->nbformat>=4.2.0->ipywidgets)\n",
      "  Using cached https://files.pythonhosted.org/packages/be/be/7abce643bfdf8ca01c48afa2ddf8308c2308b0c3b239a44e57d020afa0ef/attrs-21.4.0-py2.py3-none-any.whl\n",
      "Collecting importlib-resources>=1.4.0; python_version < \"3.9\" (from jsonschema!=2.5.0,>=2.4->nbformat>=4.2.0->ipywidgets)\n",
      "  Using cached https://files.pythonhosted.org/packages/24/1b/33e489669a94da3ef4562938cd306e8fa915e13939d7b8277cb5569cb405/importlib_resources-5.4.0-py3-none-any.whl\n",
      "Collecting pyrsistent!=0.17.0,!=0.17.1,!=0.17.2,>=0.14.0 (from jsonschema!=2.5.0,>=2.4->nbformat>=4.2.0->ipywidgets)\n",
      "  Using cached https://files.pythonhosted.org/packages/fa/4b/f051c292400d013523d6ced81af83c313059fd494e45e94ea99ceb549b95/pyrsistent-0.18.1-cp38-cp38-win32.whl\n",
      "Requirement already satisfied: entrypoints in c:\\users\\marry\\appdata\\roaming\\python\\python38\\site-packages (from jupyter-client<8.0->ipykernel>=4.5.1->ipywidgets) (0.4)\n",
      "Requirement already satisfied: python-dateutil>=2.1 in c:\\users\\marry\\appdata\\roaming\\python\\python38\\site-packages (from jupyter-client<8.0->ipykernel>=4.5.1->ipywidgets) (2.8.2)\n",
      "\n"
     ]
    },
    {
     "name": "stderr",
     "output_type": "stream",
     "text": [
      "    ERROR: Command errored out with exit status 1:\n",
      "     command: 'C:\\Users\\marry\\AppData\\Local\\Programs\\Python\\Python38-32\\python.exe' 'C:\\Users\\marry\\AppData\\Local\\Programs\\Python\\Python38-32\\lib\\site-packages\\pip\\_vendor\\pep517\\_in_process.py' prepare_metadata_for_build_wheel 'C:\\Users\\marry\\AppData\\Local\\Temp\\tmp55ms3ipm'\n",
      "         cwd: C:\\Users\\marry\\AppData\\Local\\Temp\\pip-install-ln99upyy\\pywinpty\n",
      "    Complete output (6 lines):\n",
      "    Checking for Rust toolchain....\n",
      "    \n",
      "    Cargo, the Rust package manager, is not installed or is not on PATH.\n",
      "    This package requires Rust and Cargo to compile extensions. Install it through\n",
      "    the system's package manager or via https://rustup.rs/\n",
      "    \n",
      "    ----------------------------------------\n",
      "ERROR: Command errored out with exit status 1: 'C:\\Users\\marry\\AppData\\Local\\Programs\\Python\\Python38-32\\python.exe' 'C:\\Users\\marry\\AppData\\Local\\Programs\\Python\\Python38-32\\lib\\site-packages\\pip\\_vendor\\pep517\\_in_process.py' prepare_metadata_for_build_wheel 'C:\\Users\\marry\\AppData\\Local\\Temp\\tmp55ms3ipm' Check the logs for full command output.\n",
      "WARNING: You are using pip version 19.2.3, however version 22.0.3 is available.\n",
      "You should consider upgrading via the 'python -m pip install --upgrade pip' command.\n"
     ]
    },
    {
     "name": "stdout",
     "output_type": "stream",
     "text": [
      "Requirement already satisfied: six in c:\\users\\marry\\appdata\\roaming\\python\\python38\\site-packages (from asttokens->stack-data->ipython>=4.0.0; python_version >= \"3.3\"->ipywidgets) (1.16.0)\n",
      "Collecting pywinpty>=1.1.0; os_name == \"nt\" (from terminado>=0.8.3->notebook>=4.4.1->widgetsnbextension~=3.5.0->ipywidgets)\n",
      "  Using cached https://files.pythonhosted.org/packages/43/88/f7d9b3b45a8b6109f60702cfa3b011edf7cfd8d2680f738bc4d1cb120897/pywinpty-2.0.2.tar.gz\n",
      "  Installing build dependencies: started\n",
      "  Installing build dependencies: finished with status 'done'\n",
      "  Getting requirements to build wheel: started\n",
      "  Getting requirements to build wheel: finished with status 'done'\n",
      "    Preparing wheel metadata: started\n",
      "    Preparing wheel metadata: finished with status 'error'\n"
     ]
    }
   ],
   "source": [
    "%pip install ipywidgets"
   ]
  },
  {
   "cell_type": "code",
   "execution_count": 5,
   "metadata": {},
   "outputs": [
    {
     "ename": "ModuleNotFoundError",
     "evalue": "No module named 'ipywidgets'",
     "output_type": "error",
     "traceback": [
      "\u001b[1;31m---------------------------------------------------------------------------\u001b[0m",
      "\u001b[1;31mModuleNotFoundError\u001b[0m                       Traceback (most recent call last)",
      "\u001b[1;32mc:\\Users\\marry\\Desktop\\Pao\\LaunchX\\OnBoarding\\Módulo 0 - Preparación del entorno de trabajo\\Modulo0Katas.ipynb Cell 3'\u001b[0m in \u001b[0;36m<module>\u001b[1;34m\u001b[0m\n\u001b[1;32m----> <a href='vscode-notebook-cell:/c%3A/Users/marry/Desktop/Pao/LaunchX/OnBoarding/M%C3%B3dulo%200%20-%20Preparaci%C3%B3n%20del%20entorno%20de%20trabajo/Modulo0Katas.ipynb#ch0000002?line=0'>1</a>\u001b[0m \u001b[39mimport\u001b[39;00m \u001b[39mipywidgets\u001b[39;00m \u001b[39mas\u001b[39;00m \u001b[39mwidgets\u001b[39;00m\n\u001b[0;32m      <a href='vscode-notebook-cell:/c%3A/Users/marry/Desktop/Pao/LaunchX/OnBoarding/M%C3%B3dulo%200%20-%20Preparaci%C3%B3n%20del%20entorno%20de%20trabajo/Modulo0Katas.ipynb#ch0000002?line=2'>3</a>\u001b[0m ignition \u001b[39m=\u001b[39m widgets\u001b[39m.\u001b[39mToggleButton(\n\u001b[0;32m      <a href='vscode-notebook-cell:/c%3A/Users/marry/Desktop/Pao/LaunchX/OnBoarding/M%C3%B3dulo%200%20-%20Preparaci%C3%B3n%20del%20entorno%20de%20trabajo/Modulo0Katas.ipynb#ch0000002?line=3'>4</a>\u001b[0m     value\u001b[39m=\u001b[39m\u001b[39mFalse\u001b[39;00m,\n\u001b[0;32m      <a href='vscode-notebook-cell:/c%3A/Users/marry/Desktop/Pao/LaunchX/OnBoarding/M%C3%B3dulo%200%20-%20Preparaci%C3%B3n%20del%20entorno%20de%20trabajo/Modulo0Katas.ipynb#ch0000002?line=4'>5</a>\u001b[0m     description\u001b[39m=\u001b[39m\u001b[39m'\u001b[39m\u001b[39mIniciar Launch\u001b[39m\u001b[39m'\u001b[39m,\n\u001b[1;32m   (...)\u001b[0m\n\u001b[0;32m      <a href='vscode-notebook-cell:/c%3A/Users/marry/Desktop/Pao/LaunchX/OnBoarding/M%C3%B3dulo%200%20-%20Preparaci%C3%B3n%20del%20entorno%20de%20trabajo/Modulo0Katas.ipynb#ch0000002?line=7'>8</a>\u001b[0m     icon\u001b[39m=\u001b[39m\u001b[39m'\u001b[39m\u001b[39mrocket\u001b[39m\u001b[39m'\u001b[39m\n\u001b[0;32m      <a href='vscode-notebook-cell:/c%3A/Users/marry/Desktop/Pao/LaunchX/OnBoarding/M%C3%B3dulo%200%20-%20Preparaci%C3%B3n%20del%20entorno%20de%20trabajo/Modulo0Katas.ipynb#ch0000002?line=8'>9</a>\u001b[0m )\n\u001b[0;32m     <a href='vscode-notebook-cell:/c%3A/Users/marry/Desktop/Pao/LaunchX/OnBoarding/M%C3%B3dulo%200%20-%20Preparaci%C3%B3n%20del%20entorno%20de%20trabajo/Modulo0Katas.ipynb#ch0000002?line=10'>11</a>\u001b[0m output \u001b[39m=\u001b[39m widgets\u001b[39m.\u001b[39mOutput()\n",
      "\u001b[1;31mModuleNotFoundError\u001b[0m: No module named 'ipywidgets'"
     ]
    }
   ],
   "source": [
    "import ipywidgets\n",
    "\n",
    "ignition = widgets.ToggleButton(\n",
    "    value=False,\n",
    "    description='Iniciar Launch',\n",
    "    button_style='success',\n",
    "    tooltip='Engage your Launch',\n",
    "    icon='rocket'\n",
    ")\n",
    "\n",
    "output = widgets.Output()\n",
    "\n",
    "display(ignition, output)\n",
    "\n",
    "def on_value_change(change):\n",
    "    with output:\n",
    "        if change['new'] == True:\n",
    "            print(\"Nave Iniciada!\")\n",
    "        else:   \n",
    "            print(\"Nave Detenida\")\n",
    "\n",
    "ignition.observe(on_value_change, names='value')"
   ]
  },
  {
   "cell_type": "markdown",
   "metadata": {},
   "source": [
    "## Ejercicio 2: Usar comandos avanzados"
   ]
  },
  {
   "cell_type": "code",
   "execution_count": null,
   "metadata": {},
   "outputs": [],
   "source": [
    "!pip install matplotlib\n",
    "!pip install numpy"
   ]
  },
  {
   "cell_type": "markdown",
   "metadata": {},
   "source": [
    "## Niveles de Oxígeno\n",
    "Muestra diez minutos de niveles de oxígeno en tu nave."
   ]
  },
  {
   "cell_type": "code",
   "execution_count": null,
   "metadata": {},
   "outputs": [],
   "source": [
    "import numpy as np\n",
    "import matplotlib.pyplot as plt\n",
    "data = np.random.default_rng(12345)\n",
    "oxy_nums = data.integers(low=0, high=10, size=10)\n",
    "\n",
    "plt.bar(range(len(oxy_nums)), oxy_nums)\n",
    "plt.show()"
   ]
  },
  {
   "cell_type": "markdown",
   "metadata": {},
   "source": [
    "## Velocidad de la nave\n",
    "\n",
    "Muestra los segundos necesarios para pasar de 0 a 11200 metros por segundo, dada la aceleración de la nave en metros por segundo."
   ]
  },
  {
   "cell_type": "code",
   "execution_count": null,
   "metadata": {},
   "outputs": [],
   "source": [
    "endVelocity = 11200\n",
    "startVelocity = 0\n",
    "acceleration = 9.8\n",
    "\n",
    "time = (endVelocity - startVelocity) / acceleration\n",
    "print(\"Tiempo para alcanzar la velocidad deseada = \", time)"
   ]
  },
  {
   "cell_type": "markdown",
   "metadata": {},
   "source": [
    "Curso Propedútico de Python para Launch X - Innovacción Virtual.\n",
    "\n",
    "Material desarrollado con base en los contenidos de MSLearn y la metáfora de LaunchX, traducción e implementación por: Fernanda Ochoa - Learning Producer de LaunchX.\n",
    "\n",
    "Redes:\n",
    "* GitHub: [FernandaOchoa](https://github.com/FernandaOchoa)\n",
    "* Twitter: [@imonsh](https://twitter.com/imonsh)\n",
    "* Instagram: [fherz8a](https://www.instagram.com/fherz8a/)"
   ]
  }
 ],
 "metadata": {
  "interpreter": {
   "hash": "502cd6c3b6c9e666d195e1caff9d64ea12bf644e547a4c8fae84812082c54b6f"
  },
  "kernelspec": {
   "display_name": "Python 3.9.5 64-bit",
   "language": "python",
   "name": "python3"
  },
  "language_info": {
   "codemirror_mode": {
    "name": "ipython",
    "version": 3
   },
   "file_extension": ".py",
   "mimetype": "text/x-python",
   "name": "python",
   "nbconvert_exporter": "python",
   "pygments_lexer": "ipython3",
   "version": "3.8.0"
  },
  "orig_nbformat": 4
 },
 "nbformat": 4,
 "nbformat_minor": 2
}
